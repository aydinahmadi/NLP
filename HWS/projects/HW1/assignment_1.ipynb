{
 "cells": [
  {
   "cell_type": "markdown",
   "metadata": {},
   "source": [
    "## Introduction\n",
    "\n",
    "This assessment aims to make you familiar with word embeddings and fine-tuning them for a specific downstream task. This assignment will be in two parts: **Part1: Fasttext** and **Part2: POS Tagging**. The due date of the exercise is **16th of April, 11.59pm**. You are going to submit your work via Blackboard.\n"
   ]
  },
  {
   "cell_type": "markdown",
   "metadata": {
    "tags": [
     "pdf-ignore"
    ]
   },
   "source": [
    "## Install PyTorch (If you are working locally)\n",
    "\n",
    "1. Have the latest version of Anaconda installed on your machine.\n",
    "2. Create a new conda environment starting from Python 3.7. In this setup example, we'll call it `torch_env`.\n",
    "3. Run the command: `conda activate torch_env`\n",
    "4. Run the command: `pip3 install torch==1.13.1`\n",
    "\n",
    "## or just work on this notebook on google colab.\n",
    "https://colab.research.google.com/\n",
    "\n",
    "For this assignment, you don't need a GPU to train the models. However, if you want to use a GPU, you can follow the steps below to create a GPU backed environment. https://www.youtube.com/watch?v=TI9mTiTKoUc&ab_channel=SinaTofighi This video shows how you can open a Colab, request and allocate a GPU for your work. You can follow the steps to create your GPU backed environment."
   ]
  },
  {
   "cell_type": "markdown",
   "metadata": {},
   "source": [
    "# COMP542/442 - Assignment 1 - Part 1\n",
    "\n",
    "The assignment consists of the following parts:\n",
    "* **Part I**: Preparation\n",
    "  * Installing the required packages\n",
    "  * Downloading data\n",
    "  * Preprocessing\n",
    "* **Part II**: Model Training\n",
    "  * Training word embeddings on the Turkish dataset\n",
    "  * Training with Contuinuous Bag of Words approach (Optional)\n",
    "  * Trianing with Skipgram approach\n",
    "* **Part III**: Observations\n",
    "  * Make observations for get_nearest_neighbors and get_analogies method\n",
    "  * Compare CBOW with Skipgram (Optional)"
   ]
  },
  {
   "cell_type": "markdown",
   "metadata": {},
   "source": [
    "##### Inline question 1: Describe n-gram, BPE vs wordpiece/unigram tokenization methods with one or two sentences. Please compare their advantages and disadvantages over each other.\n",
    "\n",
    "<font color='red'>Your answer: In n-gram tokenization, tokens are n consecutive words or characters from the training corpus which are commonly occuring. BPE is a method that replaces the most occuring characters in the training corpus with a unique byte. It begins by the characters of the training copus and based on the amount of tokens we want or the length of the tokens which we want, splits the data to the unique tokens. WordPiece is a tokenization method like the BPE however it takes the frequency of the words in the training corpus to the account and by the bayesian rule it find the most occuring character. Compared to the n-gram method, which is a effective and simple algorithm to use in a small dataset, BPE and WordPiece handle the out of vocabulary problem but they will result in long tokens or huge amount of vocab size. I think WordPiece is better method since it is more statistical however BPE is a better in terms of space complexity. </font>\n"
   ]
  },
  {
   "cell_type": "markdown",
   "metadata": {},
   "source": [
    "## Installing fastText\n",
    "\n",
    "You may follow the instruction from the documentation:\n",
    "* https://fasttext.cc/docs/en/support.html\n",
    "* https://fasttext.cc/docs/en/unsupervised-tutorial.html"
   ]
  },
  {
   "cell_type": "code",
   "execution_count": 56,
   "metadata": {},
   "outputs": [
    {
     "name": "stdout",
     "output_type": "stream",
     "text": [
      "/bin/bash: /home/user/anaconda3/envs/tf/lib/libtinfo.so.6: no version information available (required by /bin/bash)\n",
      "fatal: destination path 'fastText' already exists and is not an empty directory.\n",
      "/home/user/Assigment_1/fastText\n",
      "/bin/bash: /home/user/anaconda3/envs/tf/lib/libtinfo.so.6: no version information available (required by /bin/bash)\n",
      "Processing /home/user/Assigment_1/fastText\n",
      "  Preparing metadata (setup.py) ... \u001b[?25ldone\n",
      "\u001b[?25hRequirement already satisfied: pybind11>=2.2 in /home/user/anaconda3/envs/tf/lib/python3.8/site-packages (from fasttext==0.9.2) (2.10.4)\n",
      "Requirement already satisfied: setuptools>=0.7.0 in /home/user/anaconda3/envs/tf/lib/python3.8/site-packages (from fasttext==0.9.2) (65.6.3)\n",
      "Requirement already satisfied: numpy in /home/user/anaconda3/envs/tf/lib/python3.8/site-packages (from fasttext==0.9.2) (1.24.2)\n",
      "Building wheels for collected packages: fasttext\n",
      "  Building wheel for fasttext (setup.py) ... \u001b[?25ldone\n",
      "\u001b[?25h  Created wheel for fasttext: filename=fasttext-0.9.2-cp38-cp38-linux_x86_64.whl size=4527951 sha256=3c89fbf5e7a446724311315625742dbda54127bc9d0c9d2287a73339a0d1555e\n",
      "  Stored in directory: /tmp/pip-ephem-wheel-cache-jy7uubb3/wheels/83/7f/50/1a1ad96f75266b97857ef058b21bbcbc22479171bd4d1e1536\n",
      "Successfully built fasttext\n",
      "Installing collected packages: fasttext\n",
      "  Attempting uninstall: fasttext\n",
      "    Found existing installation: fasttext 0.9.2\n",
      "    Uninstalling fasttext-0.9.2:\n",
      "      Successfully uninstalled fasttext-0.9.2\n",
      "Successfully installed fasttext-0.9.2\n",
      "/bin/bash: /home/user/anaconda3/envs/tf/lib/libtinfo.so.6: no version information available (required by /bin/bash)\n",
      "/home/user/anaconda3/envs/tf/lib/python3.8/site-packages/setuptools/dist.py:770: UserWarning: Usage of dash-separated 'description-file' will not be supported in future versions. Please use the underscore name 'description_file' instead\n",
      "  warnings.warn(\n",
      "running install\n",
      "/home/user/anaconda3/envs/tf/lib/python3.8/site-packages/setuptools/command/install.py:34: SetuptoolsDeprecationWarning: setup.py install is deprecated. Use build and pip and other standards-based tools.\n",
      "  warnings.warn(\n",
      "/home/user/anaconda3/envs/tf/lib/python3.8/site-packages/setuptools/command/easy_install.py:144: EasyInstallDeprecationWarning: easy_install command is deprecated. Use build and pip and other standards-based tools.\n",
      "  warnings.warn(\n",
      "running bdist_egg\n",
      "running egg_info\n",
      "writing python/fasttext_module/fasttext.egg-info/PKG-INFO\n",
      "writing dependency_links to python/fasttext_module/fasttext.egg-info/dependency_links.txt\n",
      "writing requirements to python/fasttext_module/fasttext.egg-info/requires.txt\n",
      "writing top-level names to python/fasttext_module/fasttext.egg-info/top_level.txt\n",
      "reading manifest file 'python/fasttext_module/fasttext.egg-info/SOURCES.txt'\n",
      "reading manifest template 'MANIFEST.in'\n",
      "warning: no files found matching 'PATENTS'\n",
      "adding license file 'LICENSE'\n",
      "writing manifest file 'python/fasttext_module/fasttext.egg-info/SOURCES.txt'\n",
      "installing library code to build/bdist.linux-x86_64/egg\n",
      "running install_lib\n",
      "running build_py\n",
      "running build_ext\n",
      "gcc -pthread -B /home/user/anaconda3/envs/tf/compiler_compat -Wl,--sysroot=/ -Wsign-compare -DNDEBUG -g -fwrapv -O3 -Wall -Wstrict-prototypes -fPIC -I/home/user/anaconda3/envs/tf/include/python3.8 -c /tmp/tmppbn6f5v2.cpp -o tmp/tmppbn6f5v2.o -std=c++11\n",
      "\u001b[01m\u001b[Kcc1plus:\u001b[m\u001b[K \u001b[01;35m\u001b[Kwarning: \u001b[m\u001b[Kcommand-line option ‘\u001b[01m\u001b[K-Wstrict-prototypes\u001b[m\u001b[K’ is valid for C/ObjC but not for C++\n",
      "gcc -pthread -B /home/user/anaconda3/envs/tf/compiler_compat -Wl,--sysroot=/ -Wsign-compare -DNDEBUG -g -fwrapv -O3 -Wall -Wstrict-prototypes -fPIC -I/home/user/anaconda3/envs/tf/include/python3.8 -c /tmp/tmpzbqxvhck.cpp -o tmp/tmpzbqxvhck.o -fvisibility=hidden\n",
      "\u001b[01m\u001b[Kcc1plus:\u001b[m\u001b[K \u001b[01;35m\u001b[Kwarning: \u001b[m\u001b[Kcommand-line option ‘\u001b[01m\u001b[K-Wstrict-prototypes\u001b[m\u001b[K’ is valid for C/ObjC but not for C++\n",
      "creating build/bdist.linux-x86_64/egg\n",
      "copying build/lib.linux-x86_64-cpython-38/fasttext_pybind.cpython-38-x86_64-linux-gnu.so -> build/bdist.linux-x86_64/egg\n",
      "creating build/bdist.linux-x86_64/egg/fasttext\n",
      "copying build/lib.linux-x86_64-cpython-38/fasttext/FastText.py -> build/bdist.linux-x86_64/egg/fasttext\n",
      "creating build/bdist.linux-x86_64/egg/fasttext/tests\n",
      "copying build/lib.linux-x86_64-cpython-38/fasttext/tests/test_script.py -> build/bdist.linux-x86_64/egg/fasttext/tests\n",
      "copying build/lib.linux-x86_64-cpython-38/fasttext/tests/__init__.py -> build/bdist.linux-x86_64/egg/fasttext/tests\n",
      "copying build/lib.linux-x86_64-cpython-38/fasttext/tests/test_configurations.py -> build/bdist.linux-x86_64/egg/fasttext/tests\n",
      "copying build/lib.linux-x86_64-cpython-38/fasttext/__init__.py -> build/bdist.linux-x86_64/egg/fasttext\n",
      "creating build/bdist.linux-x86_64/egg/fasttext/util\n",
      "copying build/lib.linux-x86_64-cpython-38/fasttext/util/__init__.py -> build/bdist.linux-x86_64/egg/fasttext/util\n",
      "copying build/lib.linux-x86_64-cpython-38/fasttext/util/util.py -> build/bdist.linux-x86_64/egg/fasttext/util\n",
      "byte-compiling build/bdist.linux-x86_64/egg/fasttext/FastText.py to FastText.cpython-38.pyc\n",
      "byte-compiling build/bdist.linux-x86_64/egg/fasttext/tests/test_script.py to test_script.cpython-38.pyc\n",
      "byte-compiling build/bdist.linux-x86_64/egg/fasttext/tests/__init__.py to __init__.cpython-38.pyc\n",
      "byte-compiling build/bdist.linux-x86_64/egg/fasttext/tests/test_configurations.py to test_configurations.cpython-38.pyc\n",
      "byte-compiling build/bdist.linux-x86_64/egg/fasttext/__init__.py to __init__.cpython-38.pyc\n",
      "byte-compiling build/bdist.linux-x86_64/egg/fasttext/util/__init__.py to __init__.cpython-38.pyc\n",
      "byte-compiling build/bdist.linux-x86_64/egg/fasttext/util/util.py to util.cpython-38.pyc\n",
      "creating stub loader for fasttext_pybind.cpython-38-x86_64-linux-gnu.so\n",
      "byte-compiling build/bdist.linux-x86_64/egg/fasttext_pybind.py to fasttext_pybind.cpython-38.pyc\n",
      "creating build/bdist.linux-x86_64/egg/EGG-INFO\n",
      "copying python/fasttext_module/fasttext.egg-info/PKG-INFO -> build/bdist.linux-x86_64/egg/EGG-INFO\n",
      "copying python/fasttext_module/fasttext.egg-info/SOURCES.txt -> build/bdist.linux-x86_64/egg/EGG-INFO\n",
      "copying python/fasttext_module/fasttext.egg-info/dependency_links.txt -> build/bdist.linux-x86_64/egg/EGG-INFO\n",
      "copying python/fasttext_module/fasttext.egg-info/not-zip-safe -> build/bdist.linux-x86_64/egg/EGG-INFO\n",
      "copying python/fasttext_module/fasttext.egg-info/requires.txt -> build/bdist.linux-x86_64/egg/EGG-INFO\n",
      "copying python/fasttext_module/fasttext.egg-info/top_level.txt -> build/bdist.linux-x86_64/egg/EGG-INFO\n",
      "writing build/bdist.linux-x86_64/egg/EGG-INFO/native_libs.txt\n",
      "creating 'dist/fasttext-0.9.2-py3.8-linux-x86_64.egg' and adding 'build/bdist.linux-x86_64/egg' to it\n",
      "removing 'build/bdist.linux-x86_64/egg' (and everything under it)\n",
      "Processing fasttext-0.9.2-py3.8-linux-x86_64.egg\n",
      "removing '/home/user/anaconda3/envs/tf/lib/python3.8/site-packages/fasttext-0.9.2-py3.8-linux-x86_64.egg' (and everything under it)\n",
      "creating /home/user/anaconda3/envs/tf/lib/python3.8/site-packages/fasttext-0.9.2-py3.8-linux-x86_64.egg\n",
      "Extracting fasttext-0.9.2-py3.8-linux-x86_64.egg to /home/user/anaconda3/envs/tf/lib/python3.8/site-packages\n",
      "fasttext 0.9.2 is already the active version in easy-install.pth\n",
      "\n",
      "Installed /home/user/anaconda3/envs/tf/lib/python3.8/site-packages/fasttext-0.9.2-py3.8-linux-x86_64.egg\n",
      "Processing dependencies for fasttext==0.9.2\n",
      "Searching for numpy==1.24.2\n",
      "Best match: numpy 1.24.2\n",
      "Adding numpy 1.24.2 to easy-install.pth file\n",
      "Installing f2py script to /home/user/anaconda3/envs/tf/bin\n",
      "Installing f2py3 script to /home/user/anaconda3/envs/tf/bin\n",
      "Installing f2py3.8 script to /home/user/anaconda3/envs/tf/bin\n",
      "\n",
      "Using /home/user/anaconda3/envs/tf/lib/python3.8/site-packages\n",
      "Searching for setuptools==65.6.3\n",
      "Best match: setuptools 65.6.3\n",
      "Adding setuptools 65.6.3 to easy-install.pth file\n",
      "\n",
      "Using /home/user/anaconda3/envs/tf/lib/python3.8/site-packages\n",
      "Searching for pybind11==2.10.4\n",
      "Best match: pybind11 2.10.4\n",
      "Adding pybind11 2.10.4 to easy-install.pth file\n",
      "Installing pybind11-config script to /home/user/anaconda3/envs/tf/bin\n",
      "\n",
      "Using /home/user/anaconda3/envs/tf/lib/python3.8/site-packages\n",
      "Finished processing dependencies for fasttext==0.9.2\n",
      "/home/user/Assigment_1\n"
     ]
    }
   ],
   "source": [
    "!git clone https://github.com/facebookresearch/fastText.git\n",
    "%cd fastText\n",
    "!pip install .\n",
    "!python setup.py install\n",
    "%cd .."
   ]
  },
  {
   "cell_type": "code",
   "execution_count": 1,
   "metadata": {},
   "outputs": [],
   "source": [
    "# Test if installation was successful\n",
    "import fasttext"
   ]
  },
  {
   "cell_type": "markdown",
   "metadata": {},
   "source": [
    "We use the following data for training the embeddings: trwiki-20230401-pages-articles-multistream.xml\n"
   ]
  },
  {
   "cell_type": "markdown",
   "metadata": {},
   "source": [
    "**Download preprocessing script**\n",
    "\n",
    "A raw Wikipedia dump contains a lot of HTML / XML data, for preprocessing it, you may use the script from: https://github.com/hghodrati/wikifil.git"
   ]
  },
  {
   "cell_type": "code",
   "execution_count": 58,
   "metadata": {},
   "outputs": [
    {
     "name": "stdout",
     "output_type": "stream",
     "text": [
      "/bin/bash: /home/user/anaconda3/envs/tf/lib/libtinfo.so.6: no version information available (required by /bin/bash)\r\n",
      "fatal: destination path 'wikifil' already exists and is not an empty directory.\r\n"
     ]
    }
   ],
   "source": [
    "!git clone https://github.com/hghodrati/wikifil.git"
   ]
  },
  {
   "cell_type": "code",
   "execution_count": 59,
   "metadata": {},
   "outputs": [
    {
     "name": "stdout",
     "output_type": "stream",
     "text": [
      "/bin/bash: /home/user/anaconda3/envs/tf/lib/libtinfo.so.6: no version information available (required by /bin/bash)\r\n"
     ]
    }
   ],
   "source": [
    "# preprocess xml and save to new file\n",
    "!perl wikifil/wikifil.pl dataset/trwiki-20230401-pages-articles-multistream.xml > dataset/data_embed"
   ]
  },
  {
   "cell_type": "code",
   "execution_count": 60,
   "metadata": {},
   "outputs": [
    {
     "name": "stdout",
     "output_type": "stream",
     "text": [
      "/bin/bash: /home/user/anaconda3/envs/tf/lib/libtinfo.so.6: no version information available (required by /bin/bash)\r\n",
      "\r\n",
      " one one six two do um yeri onon nehri d l n boldak mo olistan l m tarihi l m y"
     ]
    }
   ],
   "source": [
    "# Visualize data\n",
    "!head -c 80 dataset/data_embed"
   ]
  },
  {
   "cell_type": "markdown",
   "metadata": {},
   "source": [
    "## Training with fastText\n",
    "\n",
    "You may find the documentation for training word respresentations here: \n",
    "* https://fasttext.cc/docs/en/unsupervised-tutorial.html\n",
    "* https://fasttext.cc/docs/en/python-module.html#train_unsupervised-parameters\n",
    "\n",
    "You may use the embedding dimension as 100, which is default by fasttext"
   ]
  },
  {
   "cell_type": "code",
   "execution_count": 1,
   "metadata": {},
   "outputs": [],
   "source": [
    "import fasttext\n",
    "\n",
    "EMBEDDING_DIM = 100\n",
    "#embed_model_cbow = fasttext.train_unsupervised('dataset/data_embed', \"cbow\")"
   ]
  },
  {
   "cell_type": "markdown",
   "metadata": {},
   "source": [
    "You will need to train the word embedding using two approaches:\n",
    "* Continuous Bag of words\n",
    "* Skipgram\n",
    "After training, save the models in their respective paths\n",
    "\n",
    "You may refer to the tutorial/ documentation for that"
   ]
  },
  {
   "cell_type": "code",
   "execution_count": 2,
   "metadata": {},
   "outputs": [],
   "source": [
    "#embed_model_skipgram = fasttext.train_unsupervised('dataset/data_embed', \"skipgram\")"
   ]
  },
  {
   "cell_type": "code",
   "execution_count": 3,
   "metadata": {},
   "outputs": [],
   "source": [
    "#%mkdir results\n",
    "CBOW_EMBED = \"results/embed_cbow.bin\"\n",
    "SKIPGRAM_EMBED = \"results/embed_skipgram.bin\""
   ]
  },
  {
   "cell_type": "code",
   "execution_count": 4,
   "metadata": {},
   "outputs": [],
   "source": [
    "#embed_model_cbow = None\n",
    "#embed_model_cbow.save_model(CBOW_EMBED)\n",
    "embed_model_cbow = fasttext.load_model(CBOW_EMBED)"
   ]
  },
  {
   "cell_type": "code",
   "execution_count": 5,
   "metadata": {},
   "outputs": [],
   "source": [
    "# embed_model_skipgram = None\n",
    "#embed_model_skipgram.save_model(SKIPGRAM_EMBED)\n",
    "embed_model_skipgram = fasttext.load_model(SKIPGRAM_EMBED)"
   ]
  },
  {
   "cell_type": "code",
   "execution_count": 6,
   "metadata": {},
   "outputs": [
    {
     "name": "stderr",
     "output_type": "stream",
     "text": [
      "IOPub data rate exceeded.\n",
      "The notebook server will temporarily stop sending output\n",
      "to the client in order to avoid crashing it.\n",
      "To change this limit, set the config variable\n",
      "`--NotebookApp.iopub_data_rate_limit`.\n",
      "\n",
      "Current values:\n",
      "NotebookApp.iopub_data_rate_limit=1000000.0 (bytes/sec)\n",
      "NotebookApp.rate_limit_window=3.0 (secs)\n",
      "\n"
     ]
    }
   ],
   "source": [
    "print(embed_model_skipgram.words)"
   ]
  },
  {
   "cell_type": "code",
   "execution_count": 7,
   "metadata": {},
   "outputs": [
    {
     "name": "stdout",
     "output_type": "stream",
     "text": [
      "[ 4.1007600e+00  3.4490228e-01  8.0414349e-01 -2.5063019e+00\n",
      " -1.9068347e+00 -1.0122048e+00  6.9141626e+00  8.2618630e-01\n",
      "  9.4070977e-01 -2.1726651e+00  2.8551617e-01 -7.3075193e-01\n",
      " -6.5590829e-01  3.1503453e+00  4.5543879e-02 -1.5501798e+00\n",
      "  2.1395493e+00  1.6544478e+00  2.0236478e+00 -7.1101052e-01\n",
      "  1.8283714e+00  4.0808711e+00 -5.3792195e+00 -4.8359776e+00\n",
      "  2.3318946e-01 -1.7571269e+00  4.6081552e-01 -1.3504039e+00\n",
      "  1.0706295e-03 -5.3035176e-01  8.4683889e-01  3.2952580e+00\n",
      "  8.8402629e-01 -3.4342284e+00  2.8206408e+00  8.7897730e-01\n",
      " -2.8959846e+00 -1.2435579e+00  1.0145502e+00  5.1807990e+00\n",
      "  1.4082932e+00 -2.5811980e+00 -2.4275184e+00 -3.9203284e+00\n",
      " -1.0761820e+00 -5.9505856e-01 -4.3454795e+00  5.4102483e+00\n",
      "  1.1593803e+00 -3.5236945e+00 -2.8242352e+00  4.3899255e+00\n",
      " -2.8246078e+00  3.2495835e+00 -1.2662131e+00  1.4608520e+00\n",
      " -2.7134430e+00  6.1134255e-01 -4.7933526e+00  2.6995301e-01\n",
      "  1.4089651e+00  2.9503620e+00 -4.1231629e-01  3.2022161e+00\n",
      " -6.9453317e-01 -1.3499274e+00  8.0897093e-01  1.1300262e+00\n",
      " -4.4952831e+00 -5.6755114e-01  4.8998923e+00  9.6538478e-01\n",
      "  3.2676818e+00  1.7443264e+00 -1.5433394e+00 -1.4175011e+00\n",
      "  3.0090244e+00 -3.0716305e+00 -1.7553213e-01 -2.8199353e+00\n",
      " -8.6269641e-01 -2.9977512e+00 -2.3923115e-01  5.2505078e+00\n",
      " -4.2751665e+00 -5.6448708e+00 -1.4220763e+00 -3.1350243e+00\n",
      " -1.6133845e+00 -4.9475455e-01 -1.0486922e+00 -2.8629727e+00\n",
      " -1.4397374e+00 -1.9025095e+00  2.5318909e+00  1.1964852e+00\n",
      "  1.6277113e+00 -3.5821919e+00 -3.8143176e-01  1.5100795e+00]\n"
     ]
    }
   ],
   "source": [
    "print(embed_model_cbow['kral']) "
   ]
  },
  {
   "cell_type": "code",
   "execution_count": 8,
   "metadata": {},
   "outputs": [],
   "source": [
    "word = \"king\""
   ]
  },
  {
   "cell_type": "code",
   "execution_count": 9,
   "metadata": {},
   "outputs": [
    {
     "data": {
      "text/plain": [
       "[(0.8440611958503723, 'kingpins'),\n",
       " (0.8152329921722412, 'kingz'),\n",
       " (0.8085706233978271, 'kingwell'),\n",
       " (0.8036988973617554, 'kingmaker'),\n",
       " (0.8029521107673645, 'kingsway'),\n",
       " (0.7967582941055298, 'kingsage'),\n",
       " (0.7956608533859253, 'kingswood'),\n",
       " (0.7917494773864746, 'kingsroad'),\n",
       " (0.7913044095039368, 'kinglake'),\n",
       " (0.7893604636192322, 'kingdon')]"
      ]
     },
     "execution_count": 9,
     "metadata": {},
     "output_type": "execute_result"
    }
   ],
   "source": [
    "embed_model_cbow.get_nearest_neighbors(word)"
   ]
  },
  {
   "cell_type": "code",
   "execution_count": 10,
   "metadata": {},
   "outputs": [
    {
     "name": "stdout",
     "output_type": "stream",
     "text": [
      "[ 0.18604445 -0.2818999   0.13193433 -0.39220366 -0.31412542  0.23857975\n",
      "  0.02378882 -0.09700847  0.2905494   0.15134282  0.03737711  0.07750681\n",
      "  0.28214267  0.20303902 -0.10151365 -0.5320002  -0.38554305 -0.24702428\n",
      " -1.0122051  -0.20799765  0.49024433  0.8015506   0.29683602 -0.58504754\n",
      "  0.113309    0.58903295 -0.09424364 -0.7546504   0.42896152 -0.07706961\n",
      " -0.14929202  0.07106905 -0.8398117  -0.25919768 -0.09121987  0.5113179\n",
      " -0.19160388  0.12193576  0.01474202 -0.06964729 -0.17348485 -0.2358323\n",
      " -0.5287078   0.20490167  0.22372136 -0.48620355  0.2689173   0.614306\n",
      " -0.42356604  0.4253149  -0.35115767  0.00549644 -0.23007154  0.09596586\n",
      " -0.19162396 -0.09205239  0.23918808 -0.19745202 -0.07825388 -0.20980458\n",
      "  0.14097025  0.21410215 -0.3705782   0.35723063 -0.20759103  0.22480038\n",
      " -0.39899424 -0.1697968  -0.30130577 -0.20834745 -0.32677206  0.05475534\n",
      "  0.04687861 -0.15337987 -0.43218908  0.8475256   0.39446008  0.10356147\n",
      "  0.15976135 -0.47797313  0.47152737 -0.72310174 -0.3586038  -0.40004292\n",
      "  0.24773324 -0.8600106  -0.03224846 -0.11139493  0.3271507   0.8209249\n",
      "  0.16425069  0.15637931  0.25114194 -0.3941269   0.14711455  0.36475256\n",
      "  0.31882906 -0.02510601 -0.34727985  0.50241196]\n"
     ]
    }
   ],
   "source": [
    "print(embed_model_skipgram['kral']) "
   ]
  },
  {
   "cell_type": "code",
   "execution_count": 11,
   "metadata": {},
   "outputs": [
    {
     "data": {
      "text/plain": [
       "[(0.7722301483154297, 'kingsroad'),\n",
       " (0.7715986967086792, 'kingpins'),\n",
       " (0.770132839679718, 'bloodgood'),\n",
       " (0.7678940892219543, 'queen'),\n",
       " (0.7554162740707397, 'bountiful'),\n",
       " (0.7551208138465881, 'shambles'),\n",
       " (0.7534496784210205, 'froggatt'),\n",
       " (0.7479894161224365, 'rush'),\n",
       " (0.7466498017311096, 'tygers'),\n",
       " (0.7457407116889954, 'brides')]"
      ]
     },
     "execution_count": 11,
     "metadata": {},
     "output_type": "execute_result"
    }
   ],
   "source": [
    "embed_model_skipgram.get_nearest_neighbors(word)"
   ]
  },
  {
   "cell_type": "markdown",
   "metadata": {},
   "source": []
  },
  {
   "cell_type": "markdown",
   "metadata": {},
   "source": [
    "#### Inline Question 2: Find an example of an analogy that holds, using the `get_analogies` function. Explain the analogy and also how the analogies are calculated.\n",
    "\n",
    "<font color='red'>Your answer: In word embedding models, the words are represented as vectors in a high dimensional space. based on this assumption the analogies could be represented by the equations between the words. For intance 3 words are passed to this funtion and it calculates the analogy by D = B - A + C. On the other way around it could be said that \"A is to B as C is to D\"</font>\n"
   ]
  },
  {
   "cell_type": "code",
   "execution_count": 12,
   "metadata": {},
   "outputs": [
    {
     "data": {
      "text/plain": [
       "[(0.6739562153816223, 'eats'),\n",
       " (0.6445155739784241, 'cockta'),\n",
       " (0.6443719863891602, 'drinks'),\n",
       " (0.6165286302566528, 'soup'),\n",
       " (0.6148820519447327, 'food'),\n",
       " (0.6135843992233276, 'cocktails'),\n",
       " (0.6135385036468506, 'tariffs'),\n",
       " (0.6098132729530334, 'cooking'),\n",
       " (0.6070722341537476, 'drinkboy'),\n",
       " (0.604640007019043, 'rubatt')]"
      ]
     },
     "execution_count": 12,
     "metadata": {},
     "output_type": "execute_result"
    }
   ],
   "source": [
    "embed_model_skipgram.get_analogies('eat', 'hungry', 'drink')"
   ]
  },
  {
   "cell_type": "markdown",
   "metadata": {},
   "source": []
  },
  {
   "cell_type": "markdown",
   "metadata": {},
   "source": [
    "# COMP542/442 - Assignment 1 - Part 2\n",
    "\n",
    "In this assignment, we are implementing an RNN-based POS (Part-of-Speech) tagger using BiLSTM (bidirectional Long Short-Term Memory) networks. \n",
    "\n",
    "The assignment consists of the following parts:\n",
    "* **Part I**: Preparation\n",
    "  * Installing the required packages\n",
    "  * Data loading and preprocessing\n",
    "  * Creating the datasets and dataloaders\n",
    "* **Part II**: Model Implementation and Training\n",
    "  * Implementing the BiLSTMPOS Tagger model\n",
    "  * Defining training and evaluation functions\n",
    "  * Running the training loop and observing the loss and accuracy\n",
    "  * Plotting the training metrics such as loss and accuracy\n",
    "  * Saving the model\n",
    "* **Part III**: Initializating BiLSTM with fastText Embeddings\n",
    "  * Loading the fastText model\n",
    "  * Initializating with fastText and BiLSTM models\n",
    "  * Training the model\n",
    "  * Evaluating the model\n",
    "\n",
    "Throughout the assignment, you will work with a POS dataset to train and test the model to recognize different POS tags for the given sentences. You also have the option to use this notebook on Google Colab that allows you to allocate a GPU for faster training.\n",
    "\n",
    "For more details about the POS tags, check the following link: https://universaldependencies.org/tr/pos/index.html"
   ]
  },
  {
   "cell_type": "markdown",
   "metadata": {},
   "source": [
    "# Part I. Preparation\n",
    "\n",
    "First, we load the Part-of-the-Speech (POS) dataset. Make sure you have downloaded the dataset using the provided script. Check the assignment handout for more details."
   ]
  },
  {
   "cell_type": "code",
   "execution_count": 13,
   "metadata": {
    "pycharm": {
     "is_executing": false
    },
    "tags": [
     "pdf-ignore"
    ]
   },
   "outputs": [],
   "source": [
    "import torch\n",
    "import torch.nn as nn\n",
    "import torch.optim as optim\n",
    "from torch.utils.data import DataLoader, Dataset\n",
    "from typing import List, Tuple, Dict\n",
    "import numpy as np\n",
    "import random\n",
    "from torch.nn.utils.rnn import pad_sequence\n",
    "import time\n",
    "from tqdm import tqdm\n",
    "from matplotlib import pyplot as plt\n",
    "import random\n",
    "from collections import Counter"
   ]
  },
  {
   "cell_type": "code",
   "execution_count": 14,
   "metadata": {},
   "outputs": [],
   "source": [
    "#Set the seeds for reproducibility\n",
    "SEED = 542\n",
    "\n",
    "random.seed(SEED)\n",
    "np.random.seed(SEED)\n",
    "torch.manual_seed(SEED)\n",
    "torch.backends.cudnn.deterministic = True"
   ]
  },
  {
   "cell_type": "markdown",
   "metadata": {},
   "source": [
    "You have an option to **use GPU by setting the flag to True below**. It is not necessary to use GPU for this assignment. Note that if your computer does not have CUDA enabled, `torch.cuda.is_available()` will return False and this notebook will fallback to CPU mode.\n",
    "\n",
    "The global variables `dtype` and `device` will control the data types throughout this assignment. "
   ]
  },
  {
   "cell_type": "code",
   "execution_count": 15,
   "metadata": {},
   "outputs": [
    {
     "name": "stdout",
     "output_type": "stream",
     "text": [
      "using device: cuda\n"
     ]
    }
   ],
   "source": [
    "USE_GPU = True\n",
    "\n",
    "dtype = torch.float32 # we will be using float throughout this tutorial\n",
    "\n",
    "if USE_GPU and torch.cuda.is_available():\n",
    "    device = torch.device('cuda')\n",
    "else:\n",
    "    device = torch.device('cpu')\n",
    "\n",
    "print('using device:', device)"
   ]
  },
  {
   "cell_type": "code",
   "execution_count": 16,
   "metadata": {},
   "outputs": [],
   "source": [
    "def parse_file(file_path):\n",
    "    \"\"\"\n",
    "    Parses a file in the Universal Dependencies (UD) annotation style and returns a list of all the sentences in the file.\n",
    "    Note: The data files you need in this part of the assignemnt are stored under the dataset/ directory. You can open the\n",
    "    files to have a better understanding of the format. If you want to learn more about the POS tags, you can visit the\n",
    "    Universal Dependencies website: https://universaldependencies.org/tr/pos/index.html\n",
    "\n",
    "    The output should be a list of tuples, where each tuple represents a sentence and contains (word, POS tag) pairs for each\n",
    "    word in the sentence. For example, the following sentence:\n",
    "\n",
    "    \"The quick brown fox jumps over the lazy dog.\"\n",
    "    should be represented as:\n",
    "    [(\"The\", \"DET\"), (\"quick\", \"ADJ\"), (\"brown\", \"ADJ\"), (\"fox\", \"NOUN\"), (\"jumps\", \"VERB\"), (\"over\", \"ADP\"), (\"the\", \"DET\"), (\"lazy\", \"ADJ\"), (\"dog\", \"NOUN\"), (\".\", \"PUNCT\")]\n",
    "    \n",
    "    Args:\n",
    "    file_path (str): The path to the file to be parsed.\n",
    "    \n",
    "    Returns:\n",
    "    list: A list of tuples, where each tuple represents a sentence and contains (word, POS tag) pairs for each word in the sentence.\n",
    "    \"\"\"\n",
    "    # *****START OF YOUR CODE*****\n",
    "    file1 = open(file_path, 'r')\n",
    "    Lines = file1.readlines()\n",
    "    words_roles = []\n",
    "\n",
    "    for line in Lines:\n",
    "        if line[0].isdigit():\n",
    "            words_roles.append(line.strip().split('\\t'))\n",
    "        \n",
    "    words_roles = np.array(words_roles)\n",
    "\n",
    "    sentences = []\n",
    "    sentence = []\n",
    "\n",
    "    for i in range(words_roles.shape[0]):\n",
    "        num_ = words_roles[i][0]\n",
    "        word_ = words_roles[i][1]\n",
    "        pos_ = words_roles[i][3]\n",
    "        if num_ == \"1\":\n",
    "            sentences.append(sentence)\n",
    "            sentence = []\n",
    "        if pos_ == '_':\n",
    "            sentence.append((word_, '<UNK>'))\n",
    "        if pos_!= '_':\n",
    "            sentence.append((word_, pos_))\n",
    "\n",
    "        \n",
    "    sentences.append(sentence)\n",
    "    sentences.remove(sentences[0])\n",
    "    return sentences\n",
    "    # *****END OF YOUR CODE*****\n"
   ]
  },
  {
   "cell_type": "code",
   "execution_count": 17,
   "metadata": {},
   "outputs": [],
   "source": [
    "def build_vocab(data: List[List[Tuple[str, str]]]) -> Tuple[Dict[str, int], Dict[str, int]]:\n",
    "    \"\"\"\n",
    "    Builds a vocabulary of words and part-of-speech (POS) tags based on the input data. Don't forget to add special tokens (e.g. <PAD>, <UNK>, etc.)\n",
    "\n",
    "    Args:\n",
    "    data (List[List[Tuple[str, str]]]): A list of sentences, where each sentence is represented as a list of (word, POS tag) tuples.\n",
    "\n",
    "    Returns:\n",
    "    Tuple[Dict[str, int], Dict[str, int]]: A tuple containing two dictionaries. The first dictionary maps words to their index in the vocabulary, and the second dictionary maps POS tags to their index in the vocabulary.\n",
    "    \"\"\"  \n",
    "    # *****START OF YOUR CODE*****\n",
    "    \n",
    "    words_ = [words[0] for sentence_ in data for words in sentence_]\n",
    "    pos_tags = [words[1] for sentence_ in data for words in sentence_]\n",
    "    \n",
    "    uni_words =list(set(words_))\n",
    "    uni_tags = list(set(pos_tags))\n",
    "    \n",
    "    special_tokens1 = ['<PAD>']\n",
    "    special_tokens2 = ['<PAD>', '<UNK>']\n",
    "    uni_tags += special_tokens1\n",
    "    uni_words += special_tokens2\n",
    "    \n",
    "    word_pairs = {item: index for index, item in enumerate(uni_words)}\n",
    "    tag_pairs = {item: index for index, item in enumerate(uni_tags)}\n",
    "    \n",
    "    output = (word_pairs, tag_pairs)\n",
    "    \n",
    "    return output\n",
    "\n",
    "    # *****END OF YOUR CODE*****"
   ]
  },
  {
   "cell_type": "code",
   "execution_count": 18,
   "metadata": {},
   "outputs": [],
   "source": [
    "# Parse the training and validation data files using the `parse_file` function\n",
    "training_data = parse_file(\"./dataset/train.conllu\")\n",
    "validation_data = parse_file(\"./dataset/val.conllu\")\n",
    "\n",
    "# Build the vocabulary for the training data using the `build_vocab` function\n",
    "# The `build_vocab` function returns two dictionaries:\n",
    "#   - `word_to_idx`: maps words to their index in the vocabulary\n",
    "#   - `pos_to_idx`: maps POS tags to their index in the vocabulary\n",
    "word_to_idx, pos_to_idx = build_vocab(training_data)"
   ]
  },
  {
   "cell_type": "code",
   "execution_count": 19,
   "metadata": {},
   "outputs": [],
   "source": [
    "#Helper functions to convert between indices and human-readable format. You don't need to do anything here.\n",
    "#Just reading and making sure you understand what's going on is enough.\n",
    "\n",
    "idx_to_word = {idx: word for word, idx in word_to_idx.items()}\n",
    "idx_to_pos = {idx: pos for pos, idx in pos_to_idx.items()}\n",
    "\n",
    "def convert_idx_to_words(indices: torch.tensor) -> str:\n",
    "    \"\"\"Converts a sequence of word indices to a human-readable format.\n",
    "    \n",
    "    Args:\n",
    "        indices (torch.tensor): A sequence of word indices.\n",
    "    \n",
    "    Returns:\n",
    "        str: A string representation of the sequence of words.\n",
    "    \"\"\"\n",
    "    return \" \".join([idx_to_word[idx.item()] for idx in indices])\n",
    "\n",
    "def convert_idx_to_pos(indices: torch.tensor) -> str:\n",
    "    \"\"\"Converts a sequence of POS tag indices to a human-readable format.\n",
    "    \n",
    "    Args:\n",
    "        indices (torch.tensor): A sequence of POS tag indices.\n",
    "    \n",
    "    Returns:\n",
    "        str: A string representation of the sequence of POS tags.\n",
    "    \"\"\"\n",
    "    return \" \".join([idx_to_pos[idx.item()] for idx in indices])"
   ]
  },
  {
   "cell_type": "code",
   "execution_count": 20,
   "metadata": {},
   "outputs": [],
   "source": [
    "# Helper function used for minibatching. You don't need to do anything here. Just reading and making sure you understand what's going on is enough.\n",
    "\n",
    "def collate_batch(batch):\n",
    "    \"\"\"\n",
    "    This function collates a batch of sentences into a padded tensor that can be processed by the model.\n",
    "\n",
    "    Arguments:\n",
    "\n",
    "    batch: a list of tuples where each tuple contains a sentence and its corresponding POS tags.\n",
    "    Returns:\n",
    "\n",
    "    A tuple of two padded tensors: one containing the text data and the other containing the POS tags.\n",
    "    \"\"\"\n",
    "    \n",
    "    tag_list, text_list = [], []\n",
    "    for (line, label) in batch:\n",
    "        text_list.append(line)\n",
    "        tag_list.append(label)\n",
    "        \n",
    "    return (\n",
    "        pad_sequence(text_list, padding_value=word_to_idx['<PAD>']),\n",
    "        pad_sequence(tag_list, padding_value=pos_to_idx['<PAD>'])\n",
    "    )"
   ]
  },
  {
   "cell_type": "markdown",
   "metadata": {},
   "source": [
    "### Build Vocabulary"
   ]
  },
  {
   "cell_type": "code",
   "execution_count": 21,
   "metadata": {},
   "outputs": [],
   "source": [
    "class POSDataset(Dataset):\n",
    "    \"\"\"\n",
    "    A class representing a Part-Of-Speech (POS) tagging dataset, which inherits from PyTorch's Dataset class.\n",
    "    You need to four methods for this class:\n",
    "    - __init__: Initializes the dataset object.\n",
    "    - __len__: Returns the number of sentences in the dataset.\n",
    "    - __getitem__: Returns the i-th sentence in the dataset.\n",
    "    - vocab_lookup: Converts a sentence represented as a list of word/POS-tag pairs (tuples) to a pair of PyTorch tensors \n",
    "                    representing the corresponding sequences of word and POS tag indices. Out of vocabulary words are\n",
    "                    represented by the index of the \"<UNK>\" token.\n",
    "    \"\"\"\n",
    "\n",
    "    def __init__(self, data: List[List[Tuple[str, str]]], word_to_idx: Dict, pos_to_idx: Dict):\n",
    "        \"\"\"\n",
    "        Initializes a new POSDataset object.\n",
    "        Args:\n",
    "        - data: A list of sentences, where each sentence is a list of word/POS-tag pairs (tuples).\n",
    "        - word_to_idx: A dictionary mapping words to their corresponding indices.\n",
    "        - pos_to_idx: A dictionary mapping POS tags to their corresponding indices.\n",
    "        \"\"\"\n",
    "        # *****START OF YOUR CODE*****\n",
    "        \n",
    "        self.data = data\n",
    "        self.word_to_idx = word_to_idx\n",
    "        self.pos_to_idx = pos_to_idx\n",
    "\n",
    "        # *****END OF YOUR CODE*****\n",
    "\n",
    "    def vocab_lookup(self, sentence: List[Tuple[str, str]]) -> Tuple[torch.tensor, torch.tensor]:\n",
    "        \"\"\"\n",
    "        Converts a sentence represented as a list of word/POS-tag pairs (tuples) to a pair of PyTorch tensors\n",
    "        representing the corresponding sequences of word and POS tag indices. Out of vocabulary words are\n",
    "        represented by the index of the \"<UNK>\" token.\n",
    "\n",
    "        Args:\n",
    "        - sentence: A list of word/POS-tag pairs (tuples) representing a single sentence.\n",
    "\n",
    "        Returns:\n",
    "        A tuple containing two PyTorch tensors, the first representing the sequence of word indices in the sentence,\n",
    "        and the second representing the sequence of POS tag indices in the sentence.\n",
    "        \"\"\"\n",
    "        # *****START OF YOUR CODE*****\n",
    "        \n",
    "        word_indices = torch.tensor([self.word_to_idx.get(word, self.word_to_idx['<UNK>']) for word, tag in sentence]) \n",
    "        tag_indices = torch.tensor([self.pos_to_idx.get(tag, self.pos_to_idx['<UNK>']) for word, tag in sentence])\n",
    "        return (word_indices, tag_indices)\n",
    "\n",
    "        # *****END OF YOUR CODE*****\n",
    "\n",
    "    \n",
    "    def __len__(self):\n",
    "        \"\"\"\n",
    "        Returns the number of sentences in the dataset.\n",
    "        \"\"\"\n",
    "        # *****START OF YOUR CODE*****\n",
    "        \n",
    "        return len(self.data)\n",
    "\n",
    "        # *****END OF YOUR CODE*****\n",
    "\n",
    "    def __getitem__(self, idx: int) -> Tuple[torch.tensor, torch.tensor]:\n",
    "        \"\"\"\n",
    "        Returns a single sentence from the dataset as a pair of PyTorch tensors representing the corresponding\n",
    "        sequences of word and POS tag indices.\n",
    "\n",
    "        Args:\n",
    "        - idx: The index of the sentence to retrieve.\n",
    "\n",
    "        Returns:\n",
    "        A tuple containing two PyTorch tensors, the first representing the sequence of word indices in the sentence,\n",
    "        and the second representing the sequence of POS tag indices in the sentence.\n",
    "        \"\"\"\n",
    "        # *****START OF YOUR CODE*****\n",
    "        \n",
    "        sentence = self.data[idx]\n",
    "        word_indices , tag_indices = self.vocab_lookup(sentence)\n",
    "        return (word_indices, tag_indices)\n",
    "        \n",
    "        # *****END OF YOUR CODE*****\n"
   ]
  },
  {
   "cell_type": "code",
   "execution_count": 22,
   "metadata": {},
   "outputs": [],
   "source": [
    "BATCH_SIZE = 8"
   ]
  },
  {
   "cell_type": "code",
   "execution_count": 23,
   "metadata": {},
   "outputs": [],
   "source": [
    "# This part is preparing the training and validation datasets by creating POSDataset objects \n",
    "# using training_data and validation_data. The word_to_idx and pos_to_idx dictionaries created in build_vocab \n",
    "# are passed to POSDataset so that each sentence in the datasets can be converted to a tensor of word and POS tag indices.\n",
    "# Then, DataLoader objects are created for both the training and validation datasets, with BATCH_SIZE batches per iteration. \n",
    "# shuffle=True is used to shuffle the order of samples in each batch, which helps to prevent the model from overfitting to the order of the data. \n",
    "# collate_batch is used as the function to merge samples into batches, as it pads sequences to the same length and \n",
    "# returns two tensors, one for the word indices and one for the POS tag indices.\n",
    "# This code block is essential to prepare the data for training the model. \n",
    "# The training and validation dataloaders can be used in the training loop to iterate over the dataset in batches.\n",
    "\n",
    "training_dataset = POSDataset(training_data , word_to_idx, pos_to_idx)\n",
    "validation_dataset = POSDataset(validation_data, word_to_idx, pos_to_idx)\n",
    "\n",
    "training_dataloader = DataLoader(training_dataset, batch_size = BATCH_SIZE, shuffle = True, collate_fn = collate_batch)\n",
    "validation_dataloader = DataLoader(validation_dataset, batch_size = BATCH_SIZE, shuffle = True, collate_fn = collate_batch)"
   ]
  },
  {
   "cell_type": "code",
   "execution_count": 24,
   "metadata": {},
   "outputs": [
    {
     "name": "stdout",
     "output_type": "stream",
     "text": [
      "Unique tokens in word vocabulary: 33488\n",
      "Unique tokens in tag vocabulary: 18\n",
      "\n",
      "Number of training examples: 7803\n",
      "Number of validation examples: 979\n"
     ]
    }
   ],
   "source": [
    "# It is always usefull to see dataset statistics to get a better understanding of the data.\n",
    "print(f\"Unique tokens in word vocabulary: {len(word_to_idx)}\")\n",
    "print(f\"Unique tokens in tag vocabulary: {len(pos_to_idx)}\")\n",
    "print()\n",
    "print(f\"Number of training examples: {len(training_dataset)}\")\n",
    "print(f\"Number of validation examples: {len(validation_dataset)}\")"
   ]
  },
  {
   "cell_type": "code",
   "execution_count": 25,
   "metadata": {},
   "outputs": [
    {
     "name": "stdout",
     "output_type": "stream",
     "text": [
      "Sample from the dataset: (tensor([24745, 19102,  8305, 28710, 22550,  7387,  3412]), tensor([ 3, 12, 12,  0, 11, 13,  2]))\n",
      "\n",
      "Human-readable version: Rüzgâr yine güçlü esiyordu esiyor du . NOUN ADV ADV <UNK> VERB AUX PUNCT\n"
     ]
    }
   ],
   "source": [
    "# Check a random sample from the training dataset to see if the data is correctly loaded.\n",
    "print(\"Sample from the dataset:\", training_dataset[4])\n",
    "print()\n",
    "print(\"Human-readable version:\", convert_idx_to_words(training_dataset[4][0]), convert_idx_to_pos(training_dataset[4][1]))"
   ]
  },
  {
   "cell_type": "markdown",
   "metadata": {},
   "source": [
    "# Part 2: Model Implementation and Training\n",
    "\n",
    "In this part of the assignment, the focus is on Model Implementation and Training. This section involves the following steps:\n",
    "\n",
    "Implementing the BiLSTM POS Tagger model: In this step, you will create a class called BiLSTMPOSTagger that inherits from nn.Module. This class will be used for implementing the BiLSTM (bidirectional Long Short-Term Memory) network for POS tagging. The BiLSTM model will consist of an Embedding layer, an LSTM layer, a Dropout layer, and a Linear layer to make predictions.\n",
    "\n",
    "Defining training and evaluation functions: After implementing the model, you will need to define two essential functions for training and evaluation. The train_for_single_epoch function will be responsible for training the model for one epoch on the datasets. The evaluate function will be used for evaluating the model's performance on a given dataset. Both the functions will receive important arguments such as the model, dataset iterator, optimizer, and criterion (loss function).\n",
    "\n",
    "Running the training loop and observing the loss and accuracy: In this step, you will carry out the actual training. First, you will initialize the model, optimizer, and criterion. Then, you will run the training loop for a certain number of epochs (e.g., 10). In each epoch, you will train the model for one epoch using the train_for_single_epoch function and evaluate its performance on the validation dataset using the evaluate function. Finally, you will print and store the training loss and evaluation accuracy for each epoch.\n",
    "\n",
    "By the end of Part II, you will have a model that has been trained on the POS tagging dataset, and you can observe how the training process affects the loss and accuracy metrics."
   ]
  },
  {
   "cell_type": "code",
   "execution_count": 66,
   "metadata": {
    "pycharm": {
     "is_executing": false
    }
   },
   "outputs": [],
   "source": [
    "class BiLSTMPOSTagger(nn.Module):\n",
    "    def __init__(self, input_dim, embedding_dim, hidden_dim, output_dim, n_layers, bidirectional, dropout, pad_idx):\n",
    "        \"\"\"\n",
    "        BiLSTM model for POS tagging.\n",
    "        Check this link for more details: https://pytorch.org/docs/stable/generated/torch.nn.LSTM.html\n",
    "\n",
    "        Args:\n",
    "            input_dim (int): Number of unique words in the vocabulary.\n",
    "            embedding_dim (int): Dimension of the word embeddings.\n",
    "            hidden_dim (int): Dimension of the LSTM hidden states.\n",
    "            output_dim (int): Number of unique POS tags.\n",
    "            n_layers (int): Number of LSTM layers.\n",
    "            bidirectional (bool): Whether to use a bidirectional LSTM.\n",
    "            dropout (float): Probability of dropout, if any.\n",
    "            pad_idx (int): Index of the <PAD> token in the vocabulary.\n",
    "        \"\"\"\n",
    "        super().__init__()\n",
    "\n",
    "        # *****START OF YOUR CODE*****\n",
    "        \n",
    "        self.embedding = nn.Embedding(input_dim, embedding_dim)\n",
    "        self.lstm = nn.LSTM(embedding_dim, hidden_dim, n_layers, dropout = dropout,bidirectional = True)\n",
    "        self.dropout_layer = nn.Dropout(dropout)\n",
    "        self.fc = nn.Linear(hidden_dim * 2 if bidirectional else hidden_dim, output_dim)\n",
    "\n",
    "        # *****END OF YOUR CODE*****\n",
    "        \n",
    "    def forward(self, text):\n",
    "        \"\"\"\n",
    "        Perform forward pass through the model.\n",
    "\n",
    "        Args:\n",
    "            text (Tensor): Input text of shape [sent len, batch size].\n",
    "\n",
    "        Returns:\n",
    "            Tensor: Predictions of shape [sent len, batch size, output dim].\n",
    "        \"\"\"\n",
    "        # *****START OF YOUR CODE*****\n",
    "        text = text.to(device)\n",
    "        embedded_text = self.embedding(text)\n",
    "        embedded_text = embedded_text.to(device)\n",
    "        output, (h, c) = self.lstm(embedded_text)\n",
    "        output = self.dropout_layer(output)\n",
    "        last_layer_output = self.fc(output)\n",
    "        return last_layer_output\n",
    "\n",
    "        # *****END OF YOUR CODE*****"
   ]
  },
  {
   "cell_type": "markdown",
   "metadata": {},
   "source": [
    "##### Inline question 3: How do you compare the advantages and disadvantages of using a bidirectional LSTM versus a unidirectional LSTM? #####\n",
    "<font color='red'>Your answer: Compared to the unidirectional LSTM, BI-LSTM processes the input text in both forward and backward manner, so that it is capable of caputuring the information both in the past sequences of words and futures sequences. However, this makes Bi-LSTM computationaly more expensive than the uni-LSTM and maybe if the text is not a standard one the forward and backward calculations may not be correlated so that it will cause bad predictions in the model.</font>"
   ]
  },
  {
   "cell_type": "code",
   "execution_count": 67,
   "metadata": {},
   "outputs": [],
   "source": [
    "# initialize the model\n",
    "#model = None\n",
    "input_dim = len(word_to_idx)\n",
    "embedding_dim = 100\n",
    "hidden_dim = 256\n",
    "output_dim = len(pos_to_idx)\n",
    "n_layers = 2\n",
    "bidirectional = True\n",
    "dropout = 0.25\n",
    "pad_idx = pos_to_idx['<PAD>']\n",
    "model = BiLSTMPOSTagger(input_dim, embedding_dim, hidden_dim, output_dim, n_layers, bidirectional, dropout, pad_idx)\n",
    "model = model.to(device)"
   ]
  },
  {
   "cell_type": "code",
   "execution_count": 68,
   "metadata": {},
   "outputs": [
    {
     "name": "stdout",
     "output_type": "stream",
     "text": [
      "tensor([[ 0.0154, -0.0469, -0.0298,  0.0293,  0.0440, -0.0060,  0.0451, -0.0465,\n",
      "         -0.0036, -0.0085,  0.0235,  0.0633, -0.0035, -0.0080, -0.0310,  0.0442,\n",
      "          0.0409, -0.0287],\n",
      "        [ 0.0363, -0.0440, -0.0217,  0.0262,  0.0310,  0.0222,  0.0450, -0.0543,\n",
      "         -0.0082, -0.0456,  0.0303,  0.0654, -0.0062,  0.0189, -0.0226,  0.0515,\n",
      "          0.0382, -0.0648],\n",
      "        [ 0.0480, -0.0381, -0.0560,  0.0524,  0.0146, -0.0012,  0.0217, -0.0499,\n",
      "         -0.0013, -0.0194,  0.0370,  0.0595, -0.0188, -0.0055, -0.0346,  0.0630,\n",
      "          0.0377, -0.0583],\n",
      "        [ 0.0333, -0.0507, -0.0689,  0.0560,  0.0300, -0.0174,  0.0467, -0.0847,\n",
      "         -0.0056, -0.0294,  0.0574,  0.0691, -0.0195,  0.0142, -0.0092,  0.0257,\n",
      "          0.0255, -0.0493],\n",
      "        [-0.0091, -0.0698, -0.0833, -0.0224,  0.0054, -0.0049,  0.0150, -0.0646,\n",
      "          0.0064, -0.0252,  0.0429,  0.0774,  0.0037,  0.0153,  0.0195, -0.0010,\n",
      "          0.0029, -0.0238]], device='cuda:0')\n"
     ]
    }
   ],
   "source": [
    "# See the output of the model for a random sample from the training dataset.\n",
    "# It is wrapped in torch.no_grad() because we are not training the model.\n",
    "with torch.no_grad():\n",
    "    inputs = training_dataset[0][0]\n",
    "    tag_scores = model(inputs)\n",
    "    print(tag_scores)\n"
   ]
  },
  {
   "cell_type": "code",
   "execution_count": 99,
   "metadata": {},
   "outputs": [],
   "source": [
    "def train_for_single_epoch(model, iterator, optimizer, criterion, device):\n",
    "    \"\"\"\n",
    "    Trains the model for one epoch on the given iterator with the specified optimizer and criterion.\n",
    "\n",
    "    Args:\n",
    "        model: The neural network model to train.\n",
    "        iterator: The iterator over the training dataset.\n",
    "        optimizer: The optimizer to use for gradient descent.\n",
    "        criterion: The loss function to use.\n",
    "        tag_pad_idx: The index of the padding token in the tag vocabulary.\n",
    "        tag_unk_idx: The index of the unknown token in the tag vocabulary.\n",
    "\n",
    "    Returns:\n",
    "        The average loss and accuracy for the epoch.\n",
    "    \"\"\"\n",
    "    # *****START OF YOUR CODE*****\n",
    "    \n",
    "    total_loss = 0\n",
    "    total_acc = 0\n",
    "    model.train()\n",
    "    \n",
    "    for words, tags in iterator:\n",
    "        optimizer.zero_grad()\n",
    "        \n",
    "        words.to(device)\n",
    "        tags.to(device)\n",
    "        \n",
    "        preds = model(words)\n",
    "        preds = preds.to(device)\n",
    "        tags = tags.to(device)\n",
    "        preds = preds.view(-1, preds.shape[-1])\n",
    "        tags = tags.view(-1)\n",
    "        \n",
    "        loss = criterion(preds, tags)\n",
    "        \n",
    "        loss.backward()\n",
    "        \n",
    "        tag_pad_idx = pos_to_idx['<PAD>']\n",
    "        \n",
    "        acc = categorical_accuracy(preds, tags, tag_pad_idx)\n",
    "        \n",
    "        optimizer.step()\n",
    "        \n",
    "        total_loss += loss.item()\n",
    "        total_acc += acc.item()\n",
    "        \n",
    "    return total_loss / len(iterator), total_acc / len(iterator)\n",
    "    # *****END OF YOUR CODE*****"
   ]
  },
  {
   "cell_type": "code",
   "execution_count": 100,
   "metadata": {},
   "outputs": [],
   "source": [
    "def categorical_accuracy(preds, y, tag_pad_idx):\n",
    "    \"\"\"\n",
    "    Returns the categorical accuracy between predictions and the ground truth, ignoring pad tokens.\n",
    "    \"\"\"\n",
    "    # *****START OF YOUR CODE*****\n",
    "    preds = preds.to(device)\n",
    "    y = y.to(device)\n",
    "    max_predictions = preds.argmax(dim = 1, keepdim = True)\n",
    "    non_padded_items = (y != tag_pad_idx).nonzero()\n",
    "    trues = max_predictions[non_padded_items].squeeze(1).eq(y[non_padded_items])\n",
    "    total_non_padded_items = y[non_padded_items].shape[0]\n",
    "    return trues.sum() / total_non_padded_items\n",
    "\n",
    "    # *****END OF YOUR CODE*****"
   ]
  },
  {
   "cell_type": "code",
   "execution_count": 101,
   "metadata": {},
   "outputs": [],
   "source": [
    "def evaluate(model, iterator, tag_pad_idx):\n",
    "    \"\"\"\n",
    "    Evaluate the performance of a BiLSTMPOSTagger model on a given dataset iterator. Use the categorical_accuracy function\n",
    "    you implemented above to calculate the accuracy on a batch of predictions.\n",
    "\n",
    "    Args:\n",
    "    - model: a BiLSTMPOSTagger object.\n",
    "    - iterator: a DataLoader object containing (text, tags) tuples.\n",
    "    - tag_pad_idx: an integer representing the index of the padding token in the tag vocabulary.\n",
    "\n",
    "    Returns:\n",
    "    - A float representing the categorical accuracy of the model on the given dataset iterator.\n",
    "\n",
    "    \"\"\"\n",
    "    # *****START OF YOUR CODE*****\n",
    "    \n",
    "    epoch_acc = 0\n",
    "    \n",
    "    model.eval()\n",
    "    \n",
    "    with torch.no_grad():\n",
    "    \n",
    "        for words, tags in iterator:\n",
    "            words.to(device)\n",
    "            tags.to(device)\n",
    "            predictions = model(words)\n",
    "            predictions = predictions.view(-1, predictions.shape[-1])\n",
    "            tags = tags.view(-1)\n",
    "            \n",
    "            acc = categorical_accuracy(predictions, tags, tag_pad_idx)\n",
    "\n",
    "            epoch_acc += acc.item()\n",
    "        \n",
    "    return  epoch_acc / len(iterator)\n",
    "\n",
    "    # *****END OF YOUR CODE*****"
   ]
  },
  {
   "cell_type": "code",
   "execution_count": 102,
   "metadata": {},
   "outputs": [
    {
     "name": "stdout",
     "output_type": "stream",
     "text": [
      "Accuracy before training: 9.55%\n"
     ]
    }
   ],
   "source": [
    "# Check the models accuracy without training\n",
    "accuracy = evaluate(model, validation_dataloader, tag_pad_idx=pos_to_idx['<PAD>'])\n",
    "print(f'Accuracy before training: {accuracy*100:.2f}%')"
   ]
  },
  {
   "cell_type": "code",
   "execution_count": 103,
   "metadata": {},
   "outputs": [
    {
     "name": "stdout",
     "output_type": "stream",
     "text": [
      "Accuracy of random predictions: 5.56%\n",
      "Accuracy of predicting the most frequent class: 54.79%\n"
     ]
    }
   ],
   "source": [
    "# Calculate the accuracy of random predictions\n",
    "epoch_correct = epoch_n_label = random_accuracy = most_frequent_accuracy = 0\n",
    "\n",
    "# *****START OF YOUR CODE*****\n",
    "\n",
    "for words, tags in training_dataloader:\n",
    "    random_tags= torch.randint(0, len(pos_to_idx), tags.shape)\n",
    "    epoch_correct += random_tags.eq(tags).sum().item()\n",
    "    epoch_n_label += len(tags.view(-1))\n",
    "\n",
    "random_accuracy = epoch_correct/ epoch_n_label\n",
    "\n",
    "\n",
    "# *****END OF YOUR CODE*****\n",
    "\n",
    "print(f'Accuracy of random predictions: {random_accuracy*100:.2f}%')\n",
    "\n",
    "# Calculate the accuracy of predicting the most frequent class\n",
    "\n",
    "# Get the most frequent class\n",
    "\n",
    "# *****START OF YOUR CODE*****\n",
    "epoch_correct = epoch_n_label = 0\n",
    "count_dict = {tag: 0 for tag in pos_to_idx.values()}\n",
    "for words, tags in training_dataloader:\n",
    "    for i in tags: \n",
    "        for j in i:\n",
    "            count_dict[j.item()] +=1\n",
    "            \n",
    "max_key = max(count_dict, key=count_dict.get)\n",
    "for words, tags in training_dataloader:\n",
    "    freq_tag = max_key\n",
    "    max_tensor = torch.full((tags.shape), freq_tag)\n",
    "    epoch_correct += max_tensor.eq(tags).sum().item()\n",
    "    epoch_n_label += len(tags.view(-1))\n",
    "\n",
    "\n",
    "most_frequent_accuracy = epoch_correct/ epoch_n_label\n",
    "#most_frequent_class = sum([for words, tags in training_dataloader])\n",
    "# *****END OF YOUR CODE*****\n",
    "print(f'Accuracy of predicting the most frequent class: {most_frequent_accuracy*100:.2f}%')"
   ]
  },
  {
   "cell_type": "code",
   "execution_count": 104,
   "metadata": {},
   "outputs": [],
   "source": [
    "#Define hyperparameters\n",
    "\n",
    "NUM_OF_EPOCHS = 10\n",
    "LEARNING_RATE = 0.01"
   ]
  },
  {
   "cell_type": "code",
   "execution_count": 105,
   "metadata": {},
   "outputs": [],
   "source": [
    "optimizer = optim.Adam(model.parameters(), lr=LEARNING_RATE)\n",
    "\n",
    "criterion = nn.CrossEntropyLoss(ignore_index=pos_to_idx['<PAD>']) #Modify this part if you are using a different padding token.\n",
    "criterion = criterion.to(device)"
   ]
  },
  {
   "cell_type": "code",
   "execution_count": 106,
   "metadata": {},
   "outputs": [
    {
     "name": "stdout",
     "output_type": "stream",
     "text": [
      "epoch 1 -   training_loss: 0.8775827350919364  - validation_accuracy: 76.97580272589273%\n",
      "epoch 2 -   training_loss: 0.5684803475427335  - validation_accuracy: 79.80101249082303%\n",
      "epoch 3 -   training_loss: 0.44434889097560626  - validation_accuracy: 80.70107945581762%\n",
      "epoch 4 -   training_loss: 0.38484196741225535  - validation_accuracy: 80.51233751987054%\n",
      "epoch 5 -   training_loss: 0.34741402005959976  - validation_accuracy: 79.49610895257655%\n",
      "epoch 6 -   training_loss: 0.33567809770799806  - validation_accuracy: 81.33510545017273%\n",
      "epoch 7 -   training_loss: 0.3310686668713165  - validation_accuracy: 80.54011512578019%\n",
      "epoch 8 -   training_loss: 0.33673807046544113  - validation_accuracy: 80.27700345690657%\n",
      "epoch 9 -   training_loss: 0.3621893314507286  - validation_accuracy: 79.73317615384978%\n",
      "epoch 10 -   training_loss: 0.37411933126630353  - validation_accuracy: 79.99555662395508%\n"
     ]
    }
   ],
   "source": [
    "loss_history = []\n",
    "accuracy_history = []\n",
    "\n",
    "for x in range(NUM_OF_EPOCHS):\n",
    "    # Call the train_for_single_epoch function and store the result in the training_loss variable.\n",
    "    # Call the evaluate function and store the result in the validation_accuracy variable.\n",
    "    # Print out the current epoch number, training loss, and validation accuracy using the print function and formatted string syntax. \n",
    "    # Append the training_loss and validation_accuracy values to their respective history lists (loss_history and accuracy_history).\n",
    "    # *****START OF YOUR CODE*****\n",
    "    training_loss, training_acc = train_for_single_epoch(model, training_dataloader, optimizer, criterion, device)\n",
    "    validation_accuracy = evaluate(model, validation_dataloader, tag_pad_idx=pos_to_idx['<PAD>'])\n",
    "    loss_history.append(training_loss)\n",
    "    accuracy_history.append(validation_accuracy *100)\n",
    "    print('epoch {} -   training_loss: {}  - validation_accuracy: {}%'.format(x+1 ,training_loss, validation_accuracy *100))\n",
    "\n",
    "    # *****END OF YOUR CODE*****"
   ]
  },
  {
   "cell_type": "code",
   "execution_count": 107,
   "metadata": {},
   "outputs": [
    {
     "data": {
      "image/png": "[encoded data removed]",
      "text/plain": [
       "<Figure size 1440x720 with 2 Axes>"
      ]
     },
     "metadata": {
      "needs_background": "light"
     },
     "output_type": "display_data"
    }
   ],
   "source": [
    "#To plot the training metrics, use the matplotlib library.\n",
    "\n",
    "# *****START OF YOUR CODE*****\n",
    "plt.figure(figsize=(20, 10))\n",
    "plt.subplot(1, 2, 1)\n",
    "plt.plot(loss_history)\n",
    "plt.title('loss')\n",
    "\n",
    "plt.subplot(1, 2, 2)\n",
    "plt.plot(accuracy_history)\n",
    "plt.title('accuracy')\n",
    "\n",
    "\n",
    "plt.show()\n",
    "\n",
    "# *****END OF YOUR CODE*****"
   ]
  },
  {
   "cell_type": "code",
   "execution_count": 108,
   "metadata": {},
   "outputs": [
    {
     "name": "stdout",
     "output_type": "stream",
     "text": [
      "Accuracy after training: 79.84%\n"
     ]
    }
   ],
   "source": [
    "# Models accuracy after training\n",
    "accuracy = evaluate(model, validation_dataloader, tag_pad_idx=pos_to_idx['<PAD>'])\n",
    "print(f'Accuracy after training: {accuracy*100:.2f}%')"
   ]
  },
  {
   "cell_type": "code",
   "execution_count": 109,
   "metadata": {},
   "outputs": [],
   "source": [
    "# Save the model\n",
    "torch.save(model.state_dict(), 'pos_tagger_model.pt')"
   ]
  },
  {
   "cell_type": "markdown",
   "metadata": {},
   "source": [
    "##### Inline question 4: What modifications you need to make to convert this model to a character-level BiLSTM POS tagger?\n",
    "<font color='red'>Your answer: The input and output layers dimensions will be changed. Also, the preprocessing will be changed since we were processing the text to build word tokens. However, if we want to make it character level we should build a vocab and tokens by characters not words. And since the task is changing it will induce us to change our tags to the character level labels based on the vocab that we have. We should think of seperating numbers, alphabets and symbols now.</font>"
   ]
  },
  {
   "cell_type": "markdown",
   "metadata": {},
   "source": [
    "# Part III: Initializing BiLSTM with fastText Embeddings\n",
    "\n",
    "In Part III of this project, you will be combining the power of fastText embeddings with the sequence modeling capability of the BiLSTM model. You will load the pretrained fastText model for Turkish, which was trained by you on a large corpus of Turkish text. The pre-trained model can generate word embeddings for any Turkish word, including words that are not in the training data for our specific task. This is an effective approach to handling the out-of-vocabulary (OOV) words problem that can occur in natural language processing tasks.\n",
    "\n",
    "After initializing the models, we will train the model on our dataset and evaluate its performance on a held-out development set (same dataset as above). By combining these two powerful models, we hope to achieve better accuracy and robustness in our POS tagging task.\n",
    "\n",
    "* Optional: Try the embeddings of both skipgram and cbow approach for your evaluation"
   ]
  },
  {
   "cell_type": "code",
   "execution_count": 114,
   "metadata": {},
   "outputs": [
    {
     "data": {
      "text/plain": [
       "(tensor([[-0.0652, -0.0496, -0.1289,  ...,  0.1098, -0.0151,  0.0172],\n",
       "         [-0.0882,  0.0119, -0.1088,  ...,  0.0485, -0.0427,  0.0403],\n",
       "         [-0.0704,  0.0132, -0.1070,  ...,  0.1066, -0.0578,  0.0656],\n",
       "         ...,\n",
       "         [-0.5235, -0.1207, -0.1319,  ...,  0.1493, -0.2396, -0.1081],\n",
       "         [-0.5871, -0.1143, -0.3157,  ..., -0.0854, -0.2768, -0.2058],\n",
       "         [-0.5705, -0.1231, -0.0912,  ...,  0.1416, -0.2086, -0.2494]],\n",
       "        device='cuda:0'),\n",
       " tensor([[-0.2062,  0.0387,  0.1574,  ...,  0.1105,  0.1624, -0.1949],\n",
       "         [-0.2766,  0.2054,  0.1665,  ...,  0.2257,  0.0590, -0.1537],\n",
       "         [-0.1868,  0.1892,  0.0894,  ...,  0.1631,  0.0142, -0.1599],\n",
       "         ...,\n",
       "         [-0.4569,  0.3799, -0.1453,  ..., -0.2233,  0.4600, -0.1414],\n",
       "         [-0.4502,  0.4531, -0.2549,  ..., -0.4144,  0.4937, -0.4603],\n",
       "         [-0.1266,  0.2128, -0.1720,  ..., -0.1960,  0.5005, -0.1730]],\n",
       "        device='cuda:0'))"
      ]
     },
     "execution_count": 114,
     "metadata": {},
     "output_type": "execute_result"
    }
   ],
   "source": [
    "# Initialize the model\n",
    "cbow_input_dim1 = len(embed_model_cbow.words)\n",
    "skipgram_input_dim = len(embed_model_skipgram.words)\n",
    "embedding_dim = 100\n",
    "hidden_dim = 256\n",
    "output_dim = len(pos_to_idx)\n",
    "n_layers = 2\n",
    "bidirectional = True\n",
    "dropout = 0.25\n",
    "pad_idx = pos_to_idx['<PAD>']\n",
    "cbow_model1 = BiLSTMPOSTagger(cbow_input_dim1, embedding_dim, hidden_dim, output_dim, n_layers, bidirectional, dropout, pad_idx)\n",
    "skipgram_model1 = BiLSTMPOSTagger(skipgram_input_dim, embedding_dim, hidden_dim, output_dim, n_layers, bidirectional, dropout, pad_idx)\n",
    "cbow_model1 = cbow_model1.to(device)\n",
    "skipgram_model1 = skipgram_model1.to(device)\n",
    "\n",
    "# Load the FastText pre-trained embeddings and set them as the model's embedding layer\n",
    "cbow1_pretrained_embeddings = torch.tensor(embed_model_cbow.get_output_matrix())\n",
    "skipgram_pretrained_embeddings = torch.tensor(embed_model_skipgram.get_output_matrix())\n",
    "\n",
    "cbow_model1.embedding.weight.data.copy_(cbow1_pretrained_embeddings), skipgram_model1.embedding.weight.data.copy_(skipgram_pretrained_embeddings)"
   ]
  },
  {
   "cell_type": "code",
   "execution_count": 115,
   "metadata": {},
   "outputs": [],
   "source": [
    "#Define hyperparameters\n",
    "\n",
    "NUM_OF_EPOCHS = 10\n",
    "LEARNING_RATE = 0.01"
   ]
  },
  {
   "cell_type": "code",
   "execution_count": 116,
   "metadata": {},
   "outputs": [],
   "source": [
    "cbow_optimizer = optim.Adam(cbow_model1.parameters(), lr=LEARNING_RATE)\n",
    "skipgram_optimizer = optim.Adam(skipgram_model1.parameters(), lr=LEARNING_RATE)\n",
    "criterion = nn.CrossEntropyLoss(ignore_index=pos_to_idx['<PAD>'])\n",
    "criterion = criterion.to(device)"
   ]
  },
  {
   "cell_type": "code",
   "execution_count": 117,
   "metadata": {},
   "outputs": [
    {
     "name": "stdout",
     "output_type": "stream",
     "text": [
      "\n",
      " cbow: epoch 1 -   training_loss: 0.850024836718059  - validation_accuracy: 81.22896072341175%\n",
      "\n",
      " cbow: epoch 2 -   training_loss: 0.359444961909846  - validation_accuracy: 79.4705488332888%\n",
      "\n",
      " cbow: epoch 3 -   training_loss: 0.24942715008758376  - validation_accuracy: 82.64797955024534%\n",
      "\n",
      " cbow: epoch 4 -   training_loss: 0.20156636546064383  - validation_accuracy: 82.76963742767892%\n",
      "\n",
      " cbow: epoch 5 -   training_loss: 0.17974513891958402  - validation_accuracy: 83.4378241038904%\n",
      "\n",
      " cbow: epoch 6 -   training_loss: 0.1676489982246345  - validation_accuracy: 82.91750317666589%\n",
      "\n",
      " cbow: epoch 7 -   training_loss: 0.16388312364989494  - validation_accuracy: 83.2812892227638%\n",
      "\n",
      " cbow: epoch 8 -   training_loss: 0.15917571647222475  - validation_accuracy: 82.86257439512548%\n",
      "\n",
      " cbow: epoch 9 -   training_loss: 0.151414406722026  - validation_accuracy: 82.80372115654674%\n",
      "\n",
      " cbow: epoch 10 -   training_loss: 0.1509577160029382  - validation_accuracy: 82.29763212242747%\n"
     ]
    },
    {
     "data": {
      "image/png": "[encoded data removed]",
      "text/plain": [
       "<Figure size 1440x720 with 2 Axes>"
      ]
     },
     "metadata": {
      "needs_background": "light"
     },
     "output_type": "display_data"
    },
    {
     "name": "stdout",
     "output_type": "stream",
     "text": [
      "\n",
      " skipgram: epoch 1 -   training_loss: 0.7965652673031951  - validation_accuracy: 81.40277915853795%\n",
      "\n",
      " skipgram: epoch 2 -   training_loss: 0.3642275638832543  - validation_accuracy: 77.88915701997958%\n",
      "\n",
      " skipgram: epoch 3 -   training_loss: 0.24353227582302128  - validation_accuracy: 80.25387118502361%\n",
      "\n",
      " skipgram: epoch 4 -   training_loss: 0.20321725996508888  - validation_accuracy: 82.41145005071067%\n",
      "\n",
      " skipgram: epoch 5 -   training_loss: 0.19171042989397452  - validation_accuracy: 83.37259166608982%\n",
      "\n",
      " skipgram: epoch 6 -   training_loss: 0.18507906691873538  - validation_accuracy: 82.8945699261456%\n",
      "\n",
      " skipgram: epoch 7 -   training_loss: 0.18454359290304548  - validation_accuracy: 82.23979201743273%\n",
      "\n",
      " skipgram: epoch 8 -   training_loss: 0.18525048882603173  - validation_accuracy: 82.4530449340014%\n",
      "\n",
      " skipgram: epoch 9 -   training_loss: 0.18703948699136372  - validation_accuracy: 82.66844836676994%\n",
      "\n",
      " skipgram: epoch 10 -   training_loss: 0.18522122064147328  - validation_accuracy: 82.29345427296026%\n"
     ]
    },
    {
     "data": {
      "image/png": "[encoded data removed]",
      "text/plain": [
       "<Figure size 1440x720 with 2 Axes>"
      ]
     },
     "metadata": {
      "needs_background": "light"
     },
     "output_type": "display_data"
    }
   ],
   "source": [
    "# Plot the loss and accuracy curves\n",
    "# *****START OF YOUR CODE*****\n",
    "loss_history = []\n",
    "accuracy_history = []\n",
    "for x in range(NUM_OF_EPOCHS):\n",
    "    training_loss, training_acc = train_for_single_epoch(cbow_model1, training_dataloader, cbow_optimizer, criterion, device)\n",
    "    validation_accuracy = evaluate(cbow_model1, validation_dataloader, tag_pad_idx=pos_to_idx['<PAD>'])\n",
    "    loss_history.append(training_loss)\n",
    "    accuracy_history.append(validation_accuracy *100)\n",
    "    print('\\n cbow: epoch {} -   training_loss: {}  - validation_accuracy: {}%'.format(x+1 ,training_loss, validation_accuracy *100))\n",
    "\n",
    "plt.figure(figsize=(20, 10))\n",
    "plt.subplot(1, 2, 1)\n",
    "plt.plot(loss_history)\n",
    "plt.title('cbow_loss')\n",
    "\n",
    "plt.subplot(1, 2, 2)\n",
    "plt.plot(accuracy_history)\n",
    "plt.title('cbow_accuracy')\n",
    "\n",
    "\n",
    "plt.show()\n",
    "\n",
    "\n",
    "loss_history = []\n",
    "accuracy_history = []\n",
    "for x in range(NUM_OF_EPOCHS):\n",
    "    training_loss, training_acc = train_for_single_epoch(skipgram_model1, training_dataloader, skipgram_optimizer, criterion, 'cpu')\n",
    "    validation_accuracy = evaluate(skipgram_model1, validation_dataloader, tag_pad_idx=pos_to_idx['<PAD>'])\n",
    "    loss_history.append(training_loss)\n",
    "    accuracy_history.append(validation_accuracy *100)\n",
    "    print('\\n skipgram: epoch {} -   training_loss: {}  - validation_accuracy: {}%'.format(x+1 ,training_loss, validation_accuracy *100))\n",
    "\n",
    "plt.figure(figsize=(20, 10))\n",
    "plt.subplot(1, 2, 1)\n",
    "plt.plot(loss_history)\n",
    "plt.title('skipgram_loss')\n",
    "\n",
    "plt.subplot(1, 2, 2)\n",
    "plt.plot(accuracy_history)\n",
    "plt.title('skipgram_accuracy')\n",
    "\n",
    "\n",
    "plt.show()\n",
    "\n",
    "# *****END OF YOUR CODE*****"
   ]
  },
  {
   "cell_type": "code",
   "execution_count": null,
   "metadata": {},
   "outputs": [],
   "source": []
  },
  {
   "cell_type": "code",
   "execution_count": null,
   "metadata": {},
   "outputs": [],
   "source": []
  }
 ],
 "metadata": {
  "@webio": {
   "lastCommId": "905F15FA642C45E5AD49BD1B07803981",
   "lastKernelId": "3cb236bf-6258-421e-a93f-3bbf43d85854"
  },
  "kernelspec": {
   "display_name": "Python 3",
   "language": "python",
   "name": "python3"
  },
  "language_info": {
   "codemirror_mode": {
    "name": "ipython",
    "version": 3
   },
   "file_extension": ".py",
   "mimetype": "text/x-python",
   "name": "python",
   "nbconvert_exporter": "python",
   "pygments_lexer": "ipython3",
   "version": "3.8.15"
  },
  "pycharm": {
   "stem_cell": {
    "cell_type": "raw",
    "metadata": {
     "collapsed": false
    },
    "source": []
   }
  },
  "toc": {
   "nav_menu": {},
   "number_sections": true,
   "sideBar": true,
   "skip_h1_title": false,
   "toc_cell": false,
   "toc_position": {},
   "toc_section_display": "block",
   "toc_window_display": false
  },
  "varInspector": {
   "cols": {
    "lenName": 16,
    "lenType": 16,
    "lenVar": 40
   },
   "kernels_config": {
    "python": {
     "delete_cmd_postfix": "",
     "delete_cmd_prefix": "del ",
     "library": "var_list.py",
     "varRefreshCmd": "print(var_dic_list())"
    },
    "r": {
     "delete_cmd_postfix": ") ",
     "delete_cmd_prefix": "rm(",
     "library": "var_list.r",
     "varRefreshCmd": "cat(var_dic_list()) "
    }
   },
   "types_to_exclude": [
    "module",
    "function",
    "builtin_function_or_method",
    "instance",
    "_Feature"
   ],
   "window_display": false
  }
 },
 "nbformat": 4,
 "nbformat_minor": 4
}
